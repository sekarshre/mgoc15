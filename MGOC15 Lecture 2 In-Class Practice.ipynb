{
 "cells": [
  {
   "cell_type": "markdown",
   "id": "def60543",
   "metadata": {},
   "source": [
    "## MGOC15 - Introductory Business Data Analytics\n",
    "**Lecture 2 In-Class Notebook**\n",
    "\n",
    "\n",
    "In this notebook, we will explore different data types - number, strings, and lists. We will go over different ways of accessing/reading data files and finally how to summarize the information contained in them.\n",
    "\n",
    "This cell is a descriptive cell (no code). Click on \"Cell\" in the menu and change cell type to Markdown to get a descriptive cell."
   ]
  },
  {
   "cell_type": "code",
   "execution_count": null,
   "id": "72849ff2",
   "metadata": {},
   "outputs": [],
   "source": [
    "import pandas #pandas allows us to read csv files\n",
    "import numpy #numpy lets us do mathematical calculations\n",
    "import matplotlib #Allows us to make plots"
   ]
  },
  {
   "cell_type": "code",
   "execution_count": null,
   "id": "f32ea295",
   "metadata": {},
   "outputs": [],
   "source": [
    "#This is just a test to make sure we can even read the csv file\n",
    "df = pandas.read_csv('customer_data.csv')\n",
    "print(df.head()) #This prints the first 5 rows of the file"
   ]
  },
  {
   "cell_type": "markdown",
   "id": "26d0b727",
   "metadata": {},
   "source": [
    "Let's begin by going over different variable types and what operations we can perform on them"
   ]
  },
  {
   "cell_type": "code",
   "execution_count": null,
   "id": "9c6e35aa",
   "metadata": {},
   "outputs": [],
   "source": [
    "x=4\n",
    "print('First value of x',x)\n",
    "x=10\n",
    "print('Second value of x',x)\n",
    "x=20\n",
    "print('Third value of x',x)"
   ]
  },
  {
   "cell_type": "code",
   "execution_count": null,
   "id": "dfc909ab",
   "metadata": {},
   "outputs": [],
   "source": [
    "#Mathematical Operations on x\n",
    "x=3\n",
    "y=5\n",
    "print('Multiplication',x*y)\n",
    "print('Subtraction',x-y)\n",
    "print('Division',x/y)"
   ]
  },
  {
   "cell_type": "code",
   "execution_count": null,
   "id": "38298679",
   "metadata": {},
   "outputs": [],
   "source": [
    "#What about Strings/Text?\n",
    "\n",
    "str = \"Welcome to MGOC15!\"\n",
    "print('The string contains-',str)\n",
    "print('This string has',len(str),'characters')"
   ]
  },
  {
   "cell_type": "code",
   "execution_count": null,
   "id": "8c25a0c9",
   "metadata": {},
   "outputs": [],
   "source": [
    "#Lists contain lots of numbers/strings e.g., each column in a table\n",
    "\n",
    "numlist = [1,2,3,4,5]\n",
    "print('This is a list of numbers',numlist)\n",
    "print('Length of List',len(numlist))\n",
    "strlist=[\"John\",\"Sofia\",\"Elena\",\"Jin\"]\n",
    "print('This is a list of strings',strlist)\n"
   ]
  },
  {
   "cell_type": "markdown",
   "id": "87fb74da",
   "metadata": {},
   "source": [
    "Do the following exercises:<br>\n",
    "    1) Assign two numbers with decimals to two variables and add them<br>\n",
    "    2) Create two strings (str1,str2) and add them, print the output. Check the length of the str1+str2<br>\n",
    "    3) Create two numeric lists of equal length (list1, list2), add them and print list1+list2.<br>    \n"
   ]
  },
  {
   "cell_type": "code",
   "execution_count": null,
   "id": "853323d9",
   "metadata": {},
   "outputs": [],
   "source": [
    "#Exercise 1 Below\n"
   ]
  },
  {
   "cell_type": "code",
   "execution_count": null,
   "id": "d80d4614",
   "metadata": {},
   "outputs": [],
   "source": [
    "#Exercise 2\n"
   ]
  },
  {
   "cell_type": "code",
   "execution_count": null,
   "id": "6a858873",
   "metadata": {},
   "outputs": [],
   "source": [
    "#Exercise 3\n"
   ]
  },
  {
   "cell_type": "markdown",
   "id": "2bf5f6b2",
   "metadata": {},
   "source": [
    "## Print Column Names"
   ]
  },
  {
   "cell_type": "code",
   "execution_count": null,
   "id": "855a43bd",
   "metadata": {},
   "outputs": [],
   "source": [
    "#Let's read the CSV file and print the set of columns\n",
    "df = pandas.read_csv('customer_data.csv')\n",
    "print(df.columns)\n",
    "\n",
    "#What happens if you try to print the entire dataframe\n",
    "#Uncomment the following line of code\n",
    "#print(df)\n"
   ]
  },
  {
   "cell_type": "markdown",
   "id": "21ec0489",
   "metadata": {},
   "source": [
    "In this third act, we will try and obtain some summary statistics\n",
    "- average\n",
    "- count\n",
    "- min and max\n",
    "\n",
    "We will also learn how to extract specific columns"
   ]
  },
  {
   "cell_type": "code",
   "execution_count": null,
   "id": "e03e31e0",
   "metadata": {},
   "outputs": [],
   "source": [
    "# How many rows?\n",
    "#Len is your friend - be sure to read_csv before running this code\n",
    "\n",
    "print('The number of rows in the data frame is',len(df))\n"
   ]
  },
  {
   "cell_type": "code",
   "execution_count": null,
   "id": "e78902df",
   "metadata": {},
   "outputs": [],
   "source": [
    "#Slicing a.k.a extracting columns\n",
    "#df is our main dataframe\n",
    "\n",
    "dfAge = df['age']\n",
    "print(dfAge)\n",
    "\n",
    "#Selecting multiple columns\n",
    "col_list = ['first_name','last_name','age']\n",
    "dfCustomers = df[col_list]\n",
    "#print(dfCustomers)"
   ]
  },
  {
   "cell_type": "code",
   "execution_count": null,
   "id": "875d71fb",
   "metadata": {},
   "outputs": [],
   "source": [
    "print('The Minimum age is',dfAge.min())\n",
    "print('The Maximum age is',dfAge.max())\n",
    "print('The Average age is',dfAge.mean())"
   ]
  },
  {
   "cell_type": "code",
   "execution_count": null,
   "id": "9528401e",
   "metadata": {},
   "outputs": [],
   "source": [
    "#All Summary Statistics\n",
    "print(dfAge.describe())"
   ]
  },
  {
   "cell_type": "code",
   "execution_count": null,
   "id": "7b3d5954",
   "metadata": {},
   "outputs": [],
   "source": [
    "dfGender = df['gender']\n",
    "print(dfGender.value_counts())\n",
    "\n",
    "dfproduct = df['product']\n",
    "print(dfproduct.value_counts())"
   ]
  },
  {
   "cell_type": "markdown",
   "id": "0c03ee3a",
   "metadata": {},
   "source": [
    "# Exercise:\n",
    "\n",
    "1) Add the age and id columns and store it in a new dataframe called dfWhatAreWeDoingHere. Print this new dataframe. Is this identical to adding two lists?\n",
    "\n",
    "2) Select both the gender and age columns into a new dataframe called dfGA\n",
    "\n",
    "3) How many users of this service are age 60?\n",
    "\n",
    "4) Try printing the median age (Hint: .median() gives you the median for a dataframe)"
   ]
  },
  {
   "cell_type": "code",
   "execution_count": null,
   "id": "9fd500c4",
   "metadata": {},
   "outputs": [],
   "source": []
  },
  {
   "cell_type": "markdown",
   "id": "3d1705c5",
   "metadata": {},
   "source": [
    "## Try at home "
   ]
  },
  {
   "cell_type": "code",
   "execution_count": null,
   "id": "a9c08541",
   "metadata": {},
   "outputs": [],
   "source": [
    "#Another way to print Fractions using value_counts\n",
    "dfGender.value_counts(normalize=True)"
   ]
  },
  {
   "cell_type": "code",
   "execution_count": null,
   "id": "62c86949",
   "metadata": {},
   "outputs": [],
   "source": [
    "#What if I only want to read a few rows\n",
    "dfrows = pandas.read_csv('customer_data.csv',nrows=10)\n",
    "print(dfrows)"
   ]
  },
  {
   "cell_type": "code",
   "execution_count": null,
   "id": "d91bd932",
   "metadata": {},
   "outputs": [],
   "source": [
    "#What if I only want to read first_name, last_name, and age\n",
    "main_cols = ['first_name','last_name','age']\n",
    "dfcols = pandas.read_csv('customer_data.csv',usecols=main_cols)\n",
    "print(dfcols.head())"
   ]
  }
 ],
 "metadata": {
  "kernelspec": {
   "display_name": "Python 3",
   "language": "python",
   "name": "python3"
  },
  "language_info": {
   "codemirror_mode": {
    "name": "ipython",
    "version": 3
   },
   "file_extension": ".py",
   "mimetype": "text/x-python",
   "name": "python",
   "nbconvert_exporter": "python",
   "pygments_lexer": "ipython3",
   "version": "3.8.5"
  }
 },
 "nbformat": 4,
 "nbformat_minor": 5
}
